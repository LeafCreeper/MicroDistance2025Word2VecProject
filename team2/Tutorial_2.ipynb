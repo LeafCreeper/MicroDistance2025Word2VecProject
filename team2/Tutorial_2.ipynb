{
 "cells": [
  {
   "cell_type": "markdown",
   "id": "a84932eb",
   "metadata": {},
   "source": [
    "# 词向量探索之旅——Histwords项目API调用教学"
   ]
  },
  {
   "cell_type": "markdown",
   "id": "ab3dbedf",
   "metadata": {},
   "source": [
    "## 第一部分：从理论到实践"
   ]
  },
  {
   "cell_type": "markdown",
   "id": "c711f6fc",
   "metadata": {},
   "source": [
    "### 1.1 用好人工智能辅助编程\n",
    "\n",
    "嗨！当你打开这份文件的时候，意味着你已经初步了解了词向量是什么，准备亲自动手探索词向量了。这份文件，就是对于如何利用斯坦福大学HistWords项目提供的开源词向量数据库，生成和分析词向量的教程，它会循序渐进地教会你完成你的小组项目所需要的大部分基础代码。\n",
    "\n",
    "在开始之前，让我们先讨论一件事情。\n",
    "\n",
    "大部分同学可能并未系统学习过Python，也没有尝试过亲自进行Python编程。这是完全正常的，**不会对你顺利完成这个项目产生任何影响**。你可以随时从大语言模型和讲师处获得帮助。\n",
    "\n",
    "不知道你在日常的学习生活中，是否已经养成了使用ChatGPT、Gemini，或者国产的Kimi、DeepSeek、文心一言等大模型帮助自己解决问题的习惯？我们这个时代，正在面临新一轮的技术革命：大语言模型的诞生和兴起。几乎所有的知识和技术，都可以以极小的成本和极低的门槛通过大模型获取到，你只需要打开你最熟悉的那款大语言模型的聊天框，用准确、清晰的语言，向它描述你的需求和困难，在几轮对话后，你就能得到答案，在AI的帮助下解决问题。这意味着，知识和技术将会变得越来越廉价————每个人都可以在AI的帮助下，编写自己工作学习中所需要的代码，完成那些之前需要攀登陡峭的学习曲线后才能做成的工作。毫不夸张地说，**即使你在此之前完全没有接触过Python，只要你能够熟练地与AI对话、在对话中即时地学习和反馈，你就能独立完成一个中型编程项目，甚至比一个熟练掌握Python语言但不被允许使用AI的人完成得更快更好**。社会学家谢宇把这一社会转型描述为**后知识时代**的到来。\n",
    "\n",
    "这个项目其实也意图训练你们拥有后知识时代里最核心的素质：**如何在大语言模型的帮助下，快速掌握一个完全陌生的领域的知识和技术；如何学会边做边学、在项目式的经历中即时地学习所需要的任何技能，而非先准备好所有所需的技能后才开始一个项目**。在接下来的几天里，你可能需要用代码实现自己各种各样的想法，处理很多的Bug、报错和未知的困难，这时，你可以回想这一段话。如果你拥有了这两条素质，那么在五天的项目结束后，你会很惊奇地发现————嘉宾好像没给我们仔细讲过Python，但我居然已经感受到了编程是怎么回事；下一次，当我遇到需要编程实现的奇思妙想，或者需要编程解决的工作难题，我也有了利用AI实现一切想法的经验。\n",
    "\n",
    "所以，了解AI能做到什么、不能做到什么会很重要。\n",
    "\n",
    "你需要了解，下面的内容是可以用AI解决的：\n",
    "\n",
    "- 所有Python基础知识相关的问题；\n",
    "- 你的代码中出现的几乎所有Bug和报错；\n",
    "- 大部分常规的环境配置问题。\n",
    "\n",
    "下面的内容，是AI原本并不知道，但是你把相关的知识补充给AI后，它们就能学会的：\n",
    "\n",
    "- **本项目中的特殊代码。** 我们会调用斯坦福大学Histwords项目提供的数据库和API接口，这些接口是专属于这个项目的，AI事先并没有学过。举例来说，我们会频繁用到“计算两个词的余弦相似度”的代码，如果让AI写，AI会从头开始帮你实现怎么计算向量点积、除以模长、得到余弦值；但是，这个项目已经提供了现成的相应函数的API接口（后续会讲解），你并不需要从头造轮子。这个项目提供的对象、类和调用方法及其结构，也都是AI事先不知道的。如果你想让AI帮你解决问题，你就需要把相关的背景知识补充给它。后续会介绍我们所提供的可供参考的文档。\n",
    "\n",
    "下面的内容，是可以与AI讨论，但必须运用你自己的想法来做出最终决定的：\n",
    "\n",
    "- **你们小组的项目选题。** 词向量能做的事情很多，你会在课上听到很多前人做过的研究，从中得到灵感。我希望你可以从自己关心的问题入手，独立想出选题，这些创造性的工作不应该由AI代劳；\n",
    "- **你们打算使用的研究方法。** 同上，AI可以给你们介绍许多你们可能并未了解过的词向量知识、统计技术、可视化方案等。但这些方法未必是非常适配你的项目的需求的，可以参考，但务必和AI讨论清楚、让它把它推荐的方法向你解释明白，然后由你独立判断是否适合；\n",
    "- **结果的解释和写作。**\n",
    "\n",
    "当然，在这份教程中，我也会在关键的部分，以注释的形式标注可能需要的Python知识。请确保你能够理解而当你遇到比较棘手的问题，你确信AI无法帮助你解决时，请随时联系嘉宾帮助。"
   ]
  },
  {
   "cell_type": "markdown",
   "id": "74b3d787",
   "metadata": {},
   "source": [
    "### 1.2 你的工具箱：HistWords数据集简介\n",
    "\n",
    "我们本次项目的核心研究工具，是由斯坦福大学的研究团队（William L. Hamilton, Jure Leskovec, Dan Jurafsky）开发的**HistWords项目** 。可以把它想象成一台“计算语言学的时间机器”。研究者们利用Google Books N-gram这一庞大的历史图书语料库，为从19世纪至今的每一个十年（decade）都训练了一套独立的Word2Vec词向量模型 。   \n",
    "\n",
    "这意味着，我们不仅可以分析特定时间点（例如1980年）的语言文化模式，更可以进行**历时性（diachronic）**的比较，观察词语的意义、概念间的关系以及社会偏见是如何随着历史的演进而发生变化的。该项目最初的研究，就揭示了语义变迁的两个统计定律：“整合定律”（Law of Conformity，词频越高的词语义越稳定）和“创新定律”（Law of Innovation，多义性越强的词变化越快）。   \n",
    "\n",
    "HistWords项目提供了多种语言的历时词向量，包括英语、法语、德语和中文。在本次项目中，我们提前为你下载好了**简体中文(chi-sim-all)、英文(eng-all)**的预训练模型。模型的数据来源于Google Books的简体中文图书语料，中文的时间跨度为1950年代至1990年代，每十年一个模型。这个时间段覆盖了从新中国成立初期、经历社会变革到改革开放后的关键历史时期，为我们探索中国现当代社会文化观念的变迁提供了极其宝贵的数据基础。英文的时间跨度为1800-2000年代，可以探究更长时间范围内的文化变迁。\n",
    "\n",
    "在接下来的部分，我们将深入这个“时间机器”的内部，详细解析其数据结构，并学习如何用Python驾驭它，开启我们自己的研究探索之旅。\n"
   ]
  },
  {
   "cell_type": "markdown",
   "id": "491b1d37",
   "metadata": {},
   "source": [
    "### 1.3 关键方法回顾：余弦相似度和语义投影\n",
    "\n",
    "- **余弦相似度（Cosine Similarity）**：通过计算两个词向量之间的夹角余弦值，来衡量它们的语义接近程度。其值越接近1，表示两个词的语义越相似。这是我们进行探索性分析最基础、最直接的工具。\n",
    "\n",
    "- **语义投影（Semantic Projection）**：这是一种更高级的技术，它允许我们先定义一个由反义词对集合构成的“语义轴”（例如，由“富有”和“贫穷”相关词汇定义的“财富轴”），然后将其他词语的向量投影到这个轴上，从而量化该词语在这一特定语义维度上的位置。我们在讲座中看到的Kozlowski等人关于“阶级”文化结构的研究，以及陈茁关于中国职业地位变迁的研究，都巧妙地运用了这一方法。\n",
    "\n",
    "我们提供的API接口，**直接实现了余弦相似度（和相关方法）和语义投影的调用**，你需要学习如何使用我们编写好的简单接口，难度是非常低的，可以放心，基本只有改一改输入字符串的难度。如果你希望对产出的数据做进一步的分析和可视化，就需要自己（在AI的帮助下）编写进阶代码了。"
   ]
  },
  {
   "cell_type": "markdown",
   "id": "da3ed887",
   "metadata": {},
   "source": [
    "### 1.4 其他说明\n",
    "\n",
    "后续的代码单元格中，你会看到**两个关键注释标记**。如果你看到`# TRY`这个注释，意味着你被鼓励替换一下关键词（或者时间、模型等参数），看看不同的输出；如果你看到`# TODO`这个注释，意味着这部分的代码我们刻意地留下了一小段没有完成，你可以自行查找资料，或者在AI的帮助下，补全相关代码。\n",
    "\n",
    "**让我们出发吧！**"
   ]
  },
  {
   "cell_type": "markdown",
   "id": "276b5b9d",
   "metadata": {},
   "source": [
    "## 第二部分：认识你的项目目录"
   ]
  },
  {
   "cell_type": "markdown",
   "id": "61f1403f",
   "metadata": {},
   "source": [
    "在按照昨天的环境配置教程搭建好环境、进入你的工作目录之后，你应该会看见左边的文件栏。你需要认识下面几个文件夹：\n",
    "\n",
    "- `chi-sim-all`：这里面存放了简体中文的词向量文件，以及简体中文的其他相关数据和代码。我们并不会用到其中的所有内容。后续将详细讲解这个文件夹下的内容，你不应修改其中的任何内容。\n",
    "- `eng-all`, `fre-all`, `ger-all`：这里面存放了英文、法语、德语的词向量文件，结构和`chi-sim-all`完全相同，你不应该修改其中的任何内容。\n",
    "- `histwords`：这里面存放了HistWords项目中的许多工具代码。一般来说，你不需要打开它，但是我们的项目中将会调用其中的代码。因此，你也不能修改其中的内容。\n",
    "- `team1` `team2`：分别是第一组/第二组的项目文件夹。**你的所有编程工作，都应该在你对应小组的这个文件夹下完成**"
   ]
  },
  {
   "cell_type": "markdown",
   "id": "288aacdf",
   "metadata": {},
   "source": [
    "### chi-sim-all文件夹结构说明\n",
    "\n",
    "下面我们会以chi-sim-all为例，说明词向量文件夹下的数据结构和内容（eng-all完全同理）。理解这个文件夹的结构至关重要，因为它能帮助你准确地找到你需要的数据，无论你是想分析某个特定年代的词语关系，还是想追踪一个词语在几十年间的词性变化。让我们一起来直观看看这个文件的结构：\n",
    "\n",
    "```\n",
    "chi-sim-all/\n",
    "├── sgns/\n",
    "│   ├── 1950-w.npy\n",
    "│   ├── 1950-vocab.pkl\n",
    "│   ├── 1960-w.npy\n",
    "│   ├── 1960-vocab.pkl\n",
    "│   └── ... (其他年份)\n",
    "│\n",
    "├── pos/\n",
    "│   ├── 1950-pos.pkl\n",
    "│   ├── 1950-pos_counts.pkl\n",
    "│   ├── 1960-pos.pkl\n",
    "│   ├── 1960-pos_counts.pkl\n",
    "│   └── ... (其他年份)\n",
    "│\n",
    "├── counts/\n",
    "│   ├── 1950-counts.pkl\n",
    "│   └── ... (其他年份)\n",
    "│\n",
    "├── freqs.pkl\n",
    "├── avg_freqs.pkl\n",
    "│\n",
    "└── ... (其他文件夹和文件)\n",
    "```\n",
    "\n",
    "文件很多，对吧？不用害怕，在本项目中，除非你想探索一些非常非常特别的问题，我们只会用到`sgns`和`pos`这两个文件夹下的内容。让我们重点看看这两个核心的文件夹。\n",
    "\n",
    "#### 词向量数据：`sgns/`\n",
    "\n",
    "`sgns`是 \"Skip-Gram with Negative Sampling\" 的缩写，这是训练词向量模型（Word2Vec）的一种流行技术。简单来说，这个文件夹里存放的就是我们进行语义分析的核心原材料：**词向量**。\n",
    "\n",
    "- **里面有什么？**\n",
    "\n",
    "    - 该文件夹下，以年代（如1950, 1960, ...）命名了一系列文件。对于每一个年代，你都会找到两个关键文件：\n",
    "\n",
    "        - `xxxx-w.npy`: 这是一个Numpy格式的矩阵文件，存放了该年代所有词语的向量。每一行都代表一个词的“坐标”。\n",
    "\n",
    "        - `xxxx-vocab.pkl`: 这是一个Python的pickle文件，你可以把它理解成一个“花名册”。它记录了这个年代词汇表里所有的词语，并且顺序与 `.npy` 文件中的向量一一对应。\n",
    "\n",
    "- **我们用它做什么？**\n",
    "\n",
    "    - 当我们想知道1980年“市场”和“经济”有多相关时，我们需要从这里加载1980年的词向量。\n",
    "\n",
    "    - 当我们想研究“同志”这个词的意义是如何随时间变迁时，我们需要加载所有年份的词向量进行历时比较。\n",
    "\n",
    "总而言之，所有关于词义、语义相似度、类比推理的分析，都离不开这个文件夹里的数据。我们的词向量模型，是从这里加载的。\n",
    "\n",
    "#### 词性数据：`pos/`\n",
    "\n",
    "`pos` 是 \"Part-of-Speech\"（词性）的缩写。顾名思义，这个文件夹存放了与词语的词性相关的数据。\n",
    "\n",
    "- **里面有什么？**\n",
    "\n",
    "    - 和 sgns 类似，数据也是按年代组织的。对于每个年代，你主要会用到这个文件：\n",
    "\n",
    "        - xxxx-pos.pkl: 这是一个字典文件。它的“键”（key）是具体的词语（比如“学习”），“值”（value）是这个词语对应的词性标签（比如 VERB 代表动词，NOUN 代表名词）。\n",
    "\n",
    "- **我们用它做什么？**\n",
    "\n",
    "    - 在进行分析时，我们可能只想关注名词或动词的变化，这时就可以利用 pos 文件夹里的数据来筛选词语。例如，你想研究“革命”这个词，但只关心它作为名词时的用法变迁，不关心它作为动词的用法。这时，你就可以通过这个文件夹的数据，将分析限定在特定词性的词语上。\n",
    "\n",
    "    - 或者，在查询近邻词时，我们可以用词性来筛选。比如，你想知道不同年代里“市场”的形象是什么，你可以查询与市场最相关的**形容词**是哪些，这就也会用到这个文件夹。\n",
    "\n",
    "#### 其他文件夹（选读）\n",
    "\n",
    "`chi-sim-all` 还包含其他一些有用的数据，在这里我们简单提及，感兴趣的同学可以自行探索或阅读文件夹内的 `README.md` 文件了解更多细节：\n",
    "\n",
    "- `counts/`: 记录了每个词在不同年代出现的频率。可以用来分析词语的流行度变化。\n",
    "\n",
    "- `freqs.pkl` / `avg_freqs.pkl`: 汇总了所有年份的词频信息。\n",
    "\n",
    "- `netstats` /, `volstats`/, `word_lists`/: 这些包含了一些更高级的统计数据，如共现网络、词义漂移的量化统计等，适合有余力的同学进行探索性研究。\n",
    "\n",
    "--- \n",
    "\n",
    "**总结一下**：对于我们接下来的项目实践，你最需要关注的就是 sgns 文件夹（用于获取词向量）和 pos 文件夹（用于按词性筛选词语）。希望这份指南能帮助你更好地理解我们的数据，为接下来的编程实践打下坚实的基础！"
   ]
  },
  {
   "cell_type": "markdown",
   "id": "a5aae426",
   "metadata": {},
   "source": [
    "## 第三部分：动手实践——用Python让词向量活起来"
   ]
  },
  {
   "cell_type": "markdown",
   "id": "b2512216",
   "metadata": {},
   "source": [
    "理解了数据的结构之后，我们现在进入最激动人心的部分：动手编写代码，从这些沉睡的向量中挖掘出鲜活的文化洞见。本部分将提供一份“研究者食谱”，通过具体的Python代码示例，一步步展示如何加载数据、执行分析并解读结果。\n",
    "\n",
    "### 3.1. 面向对象编程：更优雅的工具箱\n",
    "\n",
    "在之前的课程中，我们可能会编写一系列独立的函数来加载数据、计算相似度等。这种方式虽然直接，但当分析变得复杂时，代码会显得零散。现在，我们将引入一种更强大、更优雅的编程范式——**面向对象编程（Object-Oriented Programming, OOP）**。\n",
    "\n",
    "OOP的核心思想是将**数据**和操作这些数据的**函数**打包在一起，形成一个“**对象（Object）**”。你可以把对象想象成一个智能工具箱：它不仅装着你需要的所有工具（数据，如词向量），还自带了使用说明书和操作按钮（函数，我们称之为“方法”）。\n",
    "\n",
    "为了方便大家使用HistWords数据集，项目已经提供了两个预先编写好的Python类（Class，即创建对象的蓝图）：`Embedding` 和 `SequentialEmbedding`。\n",
    "\n",
    "`Embedding` 对象：用于处理单个时间点的词向量模型。它就像一个特定年代（如1980年）的“语言快照”工具箱。\n",
    "\n",
    "`SequentialEmbedding` 对象：用于处理跨越多个时间点的词向量模型序列。它是一个更强大的工具箱，管理着一系列按时间排序的 `Embedding` 工具箱。\n",
    "\n",
    "我们将使用这两个类中预先定义好的方法，来极大地简化我们的代码。\n",
    "\n",
    "### 3.2 环境设置"
   ]
  },
  {
   "cell_type": "code",
   "execution_count": 3,
   "id": "5d9c52de",
   "metadata": {},
   "outputs": [],
   "source": [
    "import sys\n",
    "sys.path.append('../histwords')\n",
    "sys.path.append('..')\n",
    "# 把我们的“工具箱”加入系统路径，让import时可以找到对应类\n",
    "\n",
    "# 导入我们即将使用的两个核心类\n",
    "from histwords.representations.embedding import Embedding\n",
    "from histwords.representations.sequentialembedding import SequentialEmbedding\n",
    "\n",
    "# 设置Numpy打印选项，增强可读性\n",
    "import numpy as np\n",
    "np.set_printoptions(legacy='1.21')"
   ]
  },
  {
   "cell_type": "markdown",
   "id": "6349465a",
   "metadata": {},
   "source": [
    "### 3.3 `Embedding`类：静态（单一时间点）的词向量模型"
   ]
  },
  {
   "cell_type": "markdown",
   "id": "6e61c2eb",
   "metadata": {},
   "source": [
    "这一部分，我们会讲解`Embedding`类提供的接口。这个类用来加载单个模型，可以研究某个静态时间点的情况。"
   ]
  },
  {
   "cell_type": "markdown",
   "id": "d301019f",
   "metadata": {},
   "source": [
    "#### 3.3.1 词向量模型的加载（单个时间点）"
   ]
  },
  {
   "cell_type": "code",
   "execution_count": 7,
   "id": "7fb9039b",
   "metadata": {},
   "outputs": [
    {
     "name": "stdout",
     "output_type": "stream",
     "text": [
      "<histwords.representations.embedding.Embedding object at 0x7feec42594b0>\n"
     ]
    }
   ],
   "source": [
    "# 加载1980年代的模型，这将返回一个Embedding对象。\n",
    "\n",
    "PATH = '../chi-sim-all/sgns/' # 声明一下相对路径，方便系统找到我们的模型文件\n",
    "embedding_1980 = Embedding.load(PATH + '1980')\n",
    "\n",
    "print(embedding_1980)\n"
   ]
  },
  {
   "cell_type": "code",
   "execution_count": 11,
   "id": "982e6e5d",
   "metadata": {},
   "outputs": [
    {
     "name": "stdout",
     "output_type": "stream",
     "text": [
      "<histwords.representations.embedding.Embedding object at 0x7fee4b109b10>\n"
     ]
    }
   ],
   "source": [
    "# TRY 请你尝试：在下面加载其他年代的模型，并赋值给对象：比如embedding_1990\n",
    "PATH = '../eng-all/sgns/' # 声明一下相对路径，方便系统找到我们的模型文件\n",
    "embedding_1990 = Embedding.load(PATH + '1990')\n",
    "\n",
    "print(embedding_1990)"
   ]
  },
  {
   "cell_type": "markdown",
   "id": "41498672",
   "metadata": {},
   "source": [
    "#### 3.3.2 从模型中读取词向量"
   ]
  },
  {
   "cell_type": "markdown",
   "id": "04caf171",
   "metadata": {},
   "source": [
    "每个`Embedding`对象都有一个 `.represent()` 方法，可以轻松获取词语的向量。使用方法参考："
   ]
  },
  {
   "cell_type": "code",
   "execution_count": 12,
   "id": "dff2b720",
   "metadata": {},
   "outputs": [
    {
     "name": "stdout",
     "output_type": "stream",
     "text": [
      "“改革”的向量维度: (300,)\n",
      "“改革”的向量表示: [ 7.12827938e-02  9.24179448e-02 -3.76439605e-02 -1.66352252e-02\n",
      " -5.94081851e-02 -4.62243094e-02  2.67668692e-02  2.26890858e-02\n",
      " -1.26379660e-01 -2.90105980e-02 -3.94488225e-02  5.49707738e-02\n",
      "  4.85823099e-02  9.94467225e-02  7.16621984e-03  3.82762364e-02\n",
      " -2.52115832e-02 -3.94581336e-02 -5.44802851e-02 -5.76786451e-02\n",
      "  1.52211946e-02 -7.13502741e-02 -4.17862371e-02  1.01826852e-01\n",
      "  5.06675308e-02  2.77879030e-02 -1.91703104e-02  9.75740173e-02\n",
      "  2.07863972e-03  7.28746868e-02  7.35421447e-02 -5.71982271e-02\n",
      "  7.19362524e-02  6.52270392e-02  6.36329802e-02  1.09146829e-01\n",
      " -4.61089806e-02  8.96198570e-02 -4.61773759e-02 -4.55854433e-02\n",
      " -7.70556549e-02 -1.10934230e-01  3.11359423e-02  7.49780907e-02\n",
      "  4.43915490e-03  6.08776186e-02  1.16122338e-01  5.53405456e-02\n",
      " -4.62949305e-02  1.57722303e-02  7.80566486e-02 -1.56156266e-02\n",
      "  4.12220621e-02  5.10522053e-02 -1.89452503e-02  1.10691421e-02\n",
      "  1.12152852e-01  2.01196525e-02  4.00288469e-02 -1.40381835e-01\n",
      "  2.21995394e-02 -4.09681410e-03  8.02619036e-02  3.96033759e-02\n",
      " -6.94412152e-02 -2.04653742e-02 -1.16432807e-03  5.17679884e-02\n",
      " -2.77517783e-02 -9.69153787e-02  2.62511112e-02  8.23160541e-02\n",
      "  3.57261119e-02  9.44475766e-02 -1.31882328e-02 -1.14286443e-03\n",
      " -1.27375144e-02  3.16067165e-02 -1.73809204e-02  2.72355235e-02\n",
      " -7.40142504e-02  1.38729578e-02  3.01258739e-02 -1.30406686e-01\n",
      "  6.32777772e-02 -1.05331858e-02  3.26227078e-03 -1.02514627e-01\n",
      "  1.38728638e-02  6.52144809e-02  5.76811185e-03  3.89745254e-02\n",
      " -1.70783899e-02 -9.37589026e-02 -7.27587141e-02 -6.55190492e-02\n",
      "  1.94764931e-02  8.09448202e-02 -1.89796356e-02  2.90372324e-02\n",
      "  1.94615755e-02  1.85003624e-02 -2.16913596e-02 -7.56240669e-04\n",
      "  4.60109323e-02  5.90911904e-02 -1.34315293e-02 -1.62590260e-05\n",
      "  5.67176844e-02  2.01508645e-01 -8.22914084e-02  8.23306581e-02\n",
      " -1.19365152e-01  3.14553640e-02 -3.37940399e-03  9.34643036e-02\n",
      " -5.99541324e-02  4.61527220e-02 -1.93631756e-02  2.09259066e-02\n",
      " -1.37565084e-02 -5.86951327e-03  6.19546004e-02  6.72884788e-02\n",
      " -4.49924414e-03 -3.61560343e-02 -1.55888079e-02 -8.47301517e-02\n",
      " -4.77176235e-02  4.10834759e-02 -3.60807856e-02 -9.26904501e-02\n",
      " -5.07904502e-02  2.85249651e-02  8.95515704e-02  3.83904237e-02\n",
      " -1.55967380e-01  3.93434537e-02  2.22230945e-02  1.43531290e-01\n",
      " -1.61947646e-02 -9.24550745e-02  6.17443308e-03 -3.26692928e-02\n",
      " -5.85305301e-02  1.52581948e-02  2.26353253e-02 -7.23832032e-02\n",
      " -5.77754764e-02  2.10051614e-02  3.15791282e-02 -7.45223004e-02\n",
      " -7.66211173e-02  2.85250369e-02 -3.12187040e-02  1.13865433e-02\n",
      " -1.35685260e-02  4.39111290e-02  6.75868929e-02  4.97509967e-02\n",
      " -1.18558651e-01  1.45206669e-02 -1.15700685e-01  6.91215393e-02\n",
      " -1.02410515e-01  7.12245792e-02 -2.20728827e-02  6.60436097e-02\n",
      "  5.99353566e-02 -5.99523477e-02  8.66366767e-02 -4.24049414e-02\n",
      " -8.75000586e-02 -3.18568656e-03 -3.22572115e-02 -1.39385295e-01\n",
      " -1.74505901e-02 -4.50331918e-03  1.16042281e-02  5.52260650e-02\n",
      " -1.21709093e-03  6.13173746e-02 -1.82261487e-02  2.29206132e-03\n",
      "  2.16302402e-02  6.21288047e-02 -2.32361001e-02 -3.85863644e-02\n",
      "  1.68827511e-02 -1.09079106e-01  1.31130466e-02 -1.47417309e-02\n",
      "  8.54354807e-03  3.22647408e-02  1.09941734e-01 -5.46115951e-02\n",
      " -2.85919906e-02 -1.96659503e-02 -6.03380135e-02  9.06720988e-03\n",
      " -1.20003008e-02 -3.16733553e-02 -1.02591555e-02 -1.02751829e-02\n",
      "  5.54037527e-03 -8.78516791e-02 -1.98665263e-02 -1.68187460e-02\n",
      " -6.10482613e-02  2.53072766e-02  6.21284930e-02 -8.41628501e-02\n",
      "  1.67564946e-02  3.81879101e-02  2.62091283e-02 -3.82015205e-02\n",
      "  1.82974229e-02  7.27690240e-02  5.48722531e-02 -6.42250626e-02\n",
      " -1.07939812e-02  4.13270885e-02  1.05430517e-02 -8.63228128e-02\n",
      " -3.89976041e-02  7.55496503e-02  5.76288973e-02 -2.31513844e-02\n",
      "  8.70283771e-02 -6.97990581e-02  5.91040509e-03 -2.71941331e-02\n",
      " -1.43469759e-02  9.65381284e-02 -9.75622409e-02 -7.85619703e-02\n",
      "  4.75255826e-03 -5.86770285e-02 -3.54295145e-02  6.10243321e-02\n",
      " -5.63815482e-02  6.23584819e-02 -9.62517345e-02 -3.92809902e-02\n",
      "  7.04042506e-02 -3.98503346e-02 -2.40586851e-02  1.13451182e-02\n",
      "  1.30475113e-02  3.87679396e-02  6.79259552e-02  3.07707773e-02\n",
      " -6.31136375e-02 -6.45020869e-02  5.56525114e-02  2.50989136e-02\n",
      " -5.02346339e-02  3.32705020e-02 -5.20096797e-02  6.19968140e-02\n",
      " -6.11117358e-03  9.50164834e-03 -5.76052503e-02  7.25033060e-02\n",
      "  2.56685753e-02 -3.88599137e-02 -3.79964579e-02 -3.64742538e-02\n",
      "  3.95448648e-02  8.48204172e-03  9.17046231e-02  6.00450108e-03\n",
      "  8.46660939e-02  5.60547491e-02  2.25078541e-02  5.43719084e-02\n",
      " -1.63181059e-03  5.52833651e-02 -2.14856054e-02  4.99243870e-02\n",
      "  5.07502520e-02 -9.19584935e-02 -8.39261750e-02 -4.08287160e-04\n",
      " -3.28177228e-02  5.89166957e-02  2.02736799e-02 -1.93367420e-02\n",
      " -9.61907832e-02 -4.40311876e-02 -8.68572508e-02 -4.31996276e-03\n",
      " -1.08837158e-02  2.80972442e-02 -3.47967743e-02  1.63844279e-02\n",
      " -8.52214544e-03 -9.16175254e-03 -2.74525806e-02 -9.49118231e-02]\n"
     ]
    }
   ],
   "source": [
    "# 获取“改革”一词的向量\n",
    "reform_vector = embedding_1980.represent('改革')\n",
    "print(\"“改革”的向量维度:\", reform_vector.shape)\n",
    "print(\"“改革”的向量表示:\", reform_vector)"
   ]
  },
  {
   "cell_type": "code",
   "execution_count": 13,
   "id": "f7aae709",
   "metadata": {},
   "outputs": [
    {
     "name": "stdout",
     "output_type": "stream",
     "text": [
      "(300,)\n",
      "[ 0.06620945  0.05044735 -0.00152891 -0.00382373 -0.0969581  -0.05826454\n",
      "  0.015925   -0.01233888 -0.06043362 -0.06878231 -0.16081731  0.05185619\n",
      " -0.04759144  0.04367466  0.07757095 -0.03987179  0.09995504 -0.14441181\n",
      " -0.07479663 -0.00190937 -0.14749752  0.02563625 -0.03132689  0.05189306\n",
      " -0.0364175  -0.03479686  0.07793639  0.06412149 -0.06038708  0.14300125\n",
      " -0.02660647  0.04440037 -0.03270199 -0.08072546 -0.03795144  0.05735639\n",
      "  0.03864607  0.07139981  0.0207059   0.08497041  0.02644389 -0.10011705\n",
      " -0.08167829  0.03784196 -0.02263387 -0.00253845 -0.04819489  0.03820451\n",
      "  0.06910104  0.00864275  0.00716465 -0.0530589   0.00658554  0.03025658\n",
      " -0.01152282 -0.02588735 -0.09016792  0.07263897 -0.11685826  0.01096997\n",
      " -0.03204904 -0.0962588  -0.08228575  0.02372325 -0.00899927  0.04870403\n",
      "  0.02347411 -0.00741403  0.03254639 -0.02577817 -0.05644975  0.05533418\n",
      " -0.11170847 -0.06971653 -0.02660454  0.05990096  0.05253265  0.01839289\n",
      "  0.01391911  0.02530127 -0.03611374 -0.02140594 -0.05038556 -0.060131\n",
      "  0.09536638 -0.01412231 -0.06236817 -0.04969844  0.02146853 -0.07276446\n",
      "  0.03413478 -0.02659222 -0.05315806  0.01013019 -0.04499644 -0.01462322\n",
      " -0.00397794  0.07533431 -0.09369772  0.01501151 -0.01248584 -0.05201335\n",
      "  0.05215779 -0.04564057  0.09201784 -0.03220743 -0.00193143 -0.06289999\n",
      "  0.04305939 -0.02455393 -0.0064542  -0.06371225 -0.11288327  0.01507684\n",
      " -0.01613581 -0.02166807  0.03389424  0.10109361  0.02962284  0.02897473\n",
      " -0.00613249 -0.02459889  0.01227658 -0.09843719 -0.00505231  0.02220574\n",
      " -0.12324015  0.05771965 -0.02522518  0.01387105 -0.06516025 -0.00785995\n",
      " -0.01856084 -0.0399437   0.07010199 -0.00274377  0.01468876 -0.04632239\n",
      " -0.03434441  0.07660836 -0.00557619  0.00609204  0.00984934 -0.02000272\n",
      " -0.06869479 -0.02587319  0.12544312  0.03056929  0.04398968  0.03528171\n",
      "  0.02989827  0.0057923   0.03651728 -0.01256831  0.02125871 -0.04527443\n",
      "  0.00844611 -0.00132548 -0.05409456 -0.03590624  0.06055172 -0.07869442\n",
      " -0.11971081  0.0477736   0.09062939 -0.05369767  0.00246623 -0.04908531\n",
      " -0.03925868 -0.05177084  0.00956119 -0.02756543  0.07113642  0.09284887\n",
      " -0.03119486 -0.04341999  0.01240634 -0.01692906 -0.02153421 -0.09367438\n",
      " -0.19414966 -0.06471059  0.01514787 -0.0209237   0.08596545 -0.0835941\n",
      " -0.01418448 -0.05130307 -0.02179821 -0.06885068  0.00907738 -0.03500683\n",
      "  0.02304577 -0.08890441  0.02531754 -0.02430928 -0.00072935  0.05013687\n",
      "  0.01591376 -0.03159324  0.08866836  0.0205238   0.04539767  0.05932941\n",
      " -0.01828539  0.03159671  0.11495582  0.03697032  0.01577436 -0.06464495\n",
      "  0.02432462  0.0605897  -0.05444827 -0.02698917  0.05969423 -0.06729932\n",
      "  0.05301693 -0.10170087 -0.01424725  0.05099711  0.0801512  -0.1170168\n",
      "  0.04003993  0.00294313 -0.00442701 -0.01764099  0.06878857 -0.01070014\n",
      "  0.02175188  0.04418255 -0.081479    0.00284359  0.04914334 -0.03260936\n",
      " -0.1006548  -0.0129304  -0.06525684 -0.02308622  0.09149951 -0.02572047\n",
      " -0.01821428  0.03790856  0.02437597  0.13842302  0.01958011  0.05653229\n",
      " -0.00205259  0.00966705 -0.20754017 -0.0340372   0.01384494  0.04970585\n",
      "  0.05639115  0.03108083 -0.02123029  0.0908949   0.03400229  0.07251616\n",
      "  0.01086414 -0.00278558 -0.05249535  0.06183779  0.06017522 -0.0377276\n",
      "  0.04098972 -0.04990631 -0.05570556  0.03898192 -0.02299393 -0.08717746\n",
      " -0.05098501 -0.03186393 -0.02659563 -0.00901288  0.13003962 -0.04547185\n",
      " -0.00655333 -0.00240393 -0.01004937 -0.00536494  0.02151112 -0.04536079\n",
      "  0.01977231  0.02137535 -0.04807566  0.03185318  0.07778344  0.01077217\n",
      " -0.02340894 -0.01081315  0.06183064 -0.02156583  0.17125338  0.00021628\n",
      " -0.02864151 -0.01989364 -0.01223443  0.11728643 -0.08043146  0.06281769]\n"
     ]
    }
   ],
   "source": [
    "# TRY 请你尝试：\n",
    "# 1. 获取“改革”在其他年代（比如1960）的词向量，并看看它的前十位；\n",
    "# 2. 看看其他词汇的向量表示\n",
    "reform_vector = embedding_1990.represent(\"like\")\n",
    "print(reform_vector.shape)\n",
    "print(reform_vector)\n"
   ]
  },
  {
   "cell_type": "markdown",
   "id": "8dc29b65",
   "metadata": {},
   "source": [
    "#### 3.3.3 寻找向量的近邻词"
   ]
  },
  {
   "cell_type": "markdown",
   "id": "9bf29761",
   "metadata": {},
   "source": [
    "使用 `.closest(word, n)` 方法可以找到最相似的词。它返回一个 (相似度分数, 词语) 的元组列表。其中，`n`是调整相似词数量的参数"
   ]
  },
  {
   "cell_type": "code",
   "execution_count": 22,
   "id": "7d34ab5e",
   "metadata": {},
   "outputs": [
    {
     "name": "stdout",
     "output_type": "stream",
     "text": [
      "\n",
      "1990年代“german”的十大近邻词:\n",
      "dictation: 1.000\n",
      "ridiculing: 0.387\n",
      "bevel: 0.378\n",
      "squandering: 0.371\n",
      "unafraid: 0.360\n",
      "morpheme: 0.353\n",
      "immunize: 0.353\n",
      "welshman: 0.345\n",
      "unsettle: 0.339\n",
      "evolutions: 0.336\n"
     ]
    }
   ],
   "source": [
    "# 寻找1980年代“改革”的近邻词\n",
    "neighbors_of_reform = embedding_1990.closest('dictation', n=10)\n",
    "\n",
    "print(\"\\n1990年代“german”的十大近邻词:\")\n",
    "for score, word in neighbors_of_reform:\n",
    "    print(f\"{word}: {score:.3f}\")\n",
    "    \n",
    "# TRY：修改上面的代码，看看其他你感兴趣的词的近邻词"
   ]
  },
  {
   "cell_type": "markdown",
   "id": "a3c1044f",
   "metadata": {},
   "source": [
    "#### 3.3.4 计算两个词的相似性"
   ]
  },
  {
   "cell_type": "markdown",
   "id": "523ae7fc",
   "metadata": {},
   "source": [
    "使用 `.similarity(word1, word2)` 方法可以计算两个词的相似性（余弦值）。它接受两个字符串作为参数，返回一个浮点数。"
   ]
  },
  {
   "cell_type": "code",
   "execution_count": 31,
   "id": "1429bd12",
   "metadata": {},
   "outputs": [
    {
     "name": "stdout",
     "output_type": "stream",
     "text": [
      "0.5276\n"
     ]
    }
   ],
   "source": [
    "# 计算1980年代“改革”“开放”的相似度\n",
    "\n",
    "sim = embedding_1990.similarity(\"german\", \"germany\")\n",
    "print(f'{sim:.4f}')\n",
    "\n",
    "# TRY：试试别的词对；对比若干词对的相似度"
   ]
  },
  {
   "cell_type": "code",
   "execution_count": 35,
   "id": "5595ac53",
   "metadata": {},
   "outputs": [
    {
     "name": "stdout",
     "output_type": "stream",
     "text": [
      "[(1.0115310131258348, 'actor'), (0.7369770329036369, 'woman'), (0.7094799786147923, 'actress'), (0.5629801713183755, 'writer'), (0.5399243794255613, 'actors'), (0.5262961291332001, 'playwright'), (0.4910951637760408, 'director'), (0.48273602999045345, 'poet'), (0.4637928954053294, 'performer'), (0.4617651255052119, 'journalist')]\n"
     ]
    }
   ],
   "source": [
    "PATH_ENG = \"\"\n",
    "eng_embed = Embedding.load(PATH + '1990')\n",
    "kingvec = eng_embed.represent('actor')\n",
    "manvec = eng_embed.represent('man')\n",
    "womanvec = eng_embed.represent('woman')\n",
    "result_vec = kingvec - manvec + womanvec\n",
    "\n",
    "print(eng_embed.vec_closest(result_vec,n=10))"
   ]
  },
  {
   "cell_type": "markdown",
   "id": "5a804186",
   "metadata": {},
   "source": [
    "#### 3.3.5 （选学）其他`Embedding`类接口"
   ]
  },
  {
   "cell_type": "markdown",
   "id": "f119640c",
   "metadata": {},
   "source": [
    "| 方法名                     | 功能说明                                                                 | 示例代码                                                                                      |\n",
    "|--------------------------|--------------------------------------------------------------------------|---------------------------------------------------------------------------------------------|\n",
    "| `vec_closest(vec, n=10)` | 输入一个向量 `vec`（这个向量并不要求对应有意义的词），返回与其最接近的前 `n` 个词及其相似度。常用于语义轴投影或聚类后寻找最近词。 | `vec = embedding[\"king\"] - embedding[\"man\"] + embedding[\"woman\"]`<br>`print(embedding.vec_closest(vec))` |\n",
    "| `oov(w)`                  | 判断词 `w` 是否是 OOV（不在词表中）。返回布尔值。                         | `print(embedding.oov(\"flibbertigibbet\"))  # True`<br>`print(embedding.oov(\"freedom\"))  # False` |\n"
   ]
  },
  {
   "cell_type": "markdown",
   "id": "a9eae14d",
   "metadata": {},
   "source": [
    "### 3.4 `SequentialEmbedding`类：动态（多个时间点）的词向量模型"
   ]
  },
  {
   "cell_type": "markdown",
   "id": "f2c8850c",
   "metadata": {},
   "source": [
    "对于我们大部分的历时性研究，`SequentialEmbedding` 类是更强大的工具。它能一次性加载所有年代的模型，并提供专门用于跨时间比较的方法。"
   ]
  },
  {
   "cell_type": "markdown",
   "id": "6103bd14",
   "metadata": {},
   "source": [
    "#### 3.4.1 加载历时模型序列：\n",
    "我们使用 SequentialEmbedding.load()来加载模型序列，并提供数据集的根目录和需要加载的年代列表。"
   ]
  },
  {
   "cell_type": "code",
   "execution_count": 24,
   "id": "cc33233f",
   "metadata": {},
   "outputs": [
    {
     "name": "stdout",
     "output_type": "stream",
     "text": [
      "<histwords.representations.sequentialembedding.SequentialEmbedding object at 0x7f1cc54fa9b0>\n"
     ]
    }
   ],
   "source": [
    "# 定义我们要研究的时间跨度\n",
    "decades = range(1900, 2000, 10) # 请你自行学习Python的range语法。举例来说，range(1950, 2000, 10)的意思是：从1950开始，每10年一步，一直读到2000（不包含2000本身），返回一个list\n",
    "\n",
    "# 加载从1950到1990的所有年代模型，这将返回一个SequentialEmbedding对象\n",
    "# 注意路径是chi-sim-all_sgns的父目录\n",
    "\n",
    "# 定义路径\n",
    "PATH_ENG = '../eng-all/sgns/'\n",
    "seq_embeddings = SequentialEmbedding.load(PATH_ENG, years=decades)\n",
    "\n",
    "print(seq_embeddings)"
   ]
  },
  {
   "cell_type": "markdown",
   "id": "6b87f597",
   "metadata": {},
   "source": [
    "#### 3.4.2 计算某两个词随时间的相似度变化\n",
    "\n",
    "`SequentialEmbedding`对象的 `.get_time_sims(word1, word2)` 方法允许我们追踪查看两个词的相似度如何变化，帮助我们理解两个概念的关系演变。它返回的是一个有序字典"
   ]
  },
  {
   "cell_type": "code",
   "execution_count": 25,
   "id": "7fb03d97",
   "metadata": {},
   "outputs": [
    {
     "name": "stdout",
     "output_type": "stream",
     "text": [
      "OrderedDict([(1900, 0.04054714269563856), (1910, 0.03625803460076041), (1920, 0.06313199990694959), (1930, 0.01902885958216027), (1940, 0.05720772114660612), (1950, 0.04851845545278794), (1960, 0.026127292142497302), (1970, 0.05596786036839427), (1980, 0.012301562829984486), (1990, -0.03633813323013357)])\n"
     ]
    }
   ],
   "source": [
    "sim_time = seq_embeddings.get_time_sims(\"rich\",\"america\")\n",
    "print(sim_time)"
   ]
  },
  {
   "cell_type": "markdown",
   "id": "b1b7ede5",
   "metadata": {},
   "source": [
    "你可以用下面的代码来做简单的可视化。如果你想加标题等图表美化工作，请咨询AI"
   ]
  },
  {
   "cell_type": "code",
   "execution_count": 26,
   "id": "c997c515",
   "metadata": {},
   "outputs": [
    {
     "data": {
      "image/png": "[encoded data removed]",
      "text/plain": [
       "<Figure size 640x480 with 1 Axes>"
      ]
     },
     "metadata": {},
     "output_type": "display_data"
    }
   ],
   "source": [
    "import matplotlib.pyplot as plt\n",
    "import zhplot # 这一行的作用是让matplotlib画图支持中文\n",
    "\n",
    "data = sim_time\n",
    "plt.plot(data.keys(), data.values(), marker='o')\n",
    "plt.title(\"语义相似度变化\")\n",
    "plt.show()"
   ]
  },
  {
   "cell_type": "markdown",
   "id": "377c41c9",
   "metadata": {},
   "source": [
    "#### 3.4.3 追踪语义近邻的变迁\n",
    "\n",
    "`SequentialEmbedding`对象的 `.get_seq_closest_by_year()` 方法允许我们追踪历时性的语义近邻变化。这个方法可以直观地展示一个核心概念的内涵是如何随时间演变的。它返回的是一个有序字典"
   ]
  },
  {
   "cell_type": "code",
   "execution_count": 27,
   "id": "bbffb9ce",
   "metadata": {},
   "outputs": [
    {
     "data": {
      "text/plain": [
       "{1900: [(1.0, 'rich'),\n",
       "  (0.5272364433601748, 'richer'),\n",
       "  (0.49385106660306305, 'richest'),\n",
       "  (0.48646683259725826, 'wealthy'),\n",
       "  (0.37539842799681283, 'poor')],\n",
       " 1910: [(0.9999999999999997, 'rich'),\n",
       "  (0.5362934620828044, 'richer'),\n",
       "  (0.5049878618867224, 'richest'),\n",
       "  (0.4871688827038669, 'wealthy'),\n",
       "  (0.3905935569040829, 'fertile')],\n",
       " 1920: [(1.0, 'rich'),\n",
       "  (0.5527664811006756, 'richer'),\n",
       "  (0.5475296128114511, 'wealthy'),\n",
       "  (0.5033695916114025, 'richest'),\n",
       "  (0.3680372434584819, 'abundant')],\n",
       " 1930: [(1.0, 'rich'),\n",
       "  (0.5343747024701642, 'richer'),\n",
       "  (0.5147835025010783, 'richest'),\n",
       "  (0.4848920863569984, 'wealthy'),\n",
       "  (0.3809947983549447, 'poor')],\n",
       " 1940: [(0.9999999999999999, 'rich'),\n",
       "  (0.5451910228611094, 'wealthy'),\n",
       "  (0.5241778209654511, 'richer'),\n",
       "  (0.5187723084423466, 'richest'),\n",
       "  (0.3908494288169326, 'fertile')],\n",
       " 1950: [(1.0000000000000004, 'rich'),\n",
       "  (0.5630886717087378, 'richer'),\n",
       "  (0.5229534335340289, 'richest'),\n",
       "  (0.47744409569073254, 'wealthy'),\n",
       "  (0.38532197057773954, 'handsome')],\n",
       " 1960: [(1.0, 'rich'),\n",
       "  (0.5512816426128407, 'wealthy'),\n",
       "  (0.5371744918077923, 'richest'),\n",
       "  (0.5336654032459588, 'richer'),\n",
       "  (0.42437048855375736, 'poor')],\n",
       " 1970: [(1.0000000000000004, 'rich'),\n",
       "  (0.5586071651664207, 'richest'),\n",
       "  (0.553008425135549, 'richer'),\n",
       "  (0.5174248585171559, 'wealthy'),\n",
       "  (0.4746910950904775, 'poor')],\n",
       " 1980: [(1.0000000000000002, 'rich'),\n",
       "  (0.4881341317795838, 'richest'),\n",
       "  (0.48551427302604727, 'wealthy'),\n",
       "  (0.46404299718485487, 'richer'),\n",
       "  (0.41860911724582606, 'wealth')],\n",
       " 1990: [(1.0, 'rich'),\n",
       "  (0.5063085742988631, 'richer'),\n",
       "  (0.45098513964214126, 'wealthy'),\n",
       "  (0.4100632262836668, 'richest'),\n",
       "  (0.36410158898040845, 'charming')]}"
      ]
     },
     "execution_count": 27,
     "metadata": {},
     "output_type": "execute_result"
    }
   ],
   "source": [
    "seq_embeddings.get_seq_closest_by_year('rich',n=5)\n",
    "\n",
    "# TRY：换别的词看看"
   ]
  },
  {
   "cell_type": "markdown",
   "id": "28a9dc73",
   "metadata": {},
   "source": [
    "我们为你提供了下面的工具函数，来进行语义变迁的可视化：`visualize_semantic_change(word, embedding_path, years)`"
   ]
  },
  {
   "cell_type": "code",
   "execution_count": 31,
   "id": "a62db1b2",
   "metadata": {},
   "outputs": [],
   "source": [
    "import sys\n",
    "import os\n",
    "sys.path.append(r\"../histwords\")\n",
    "sys.path.append(r\"../histwords/viz/scripts/\")\n",
    "# 导入我们即将使用的核心类\n",
    "from histwords.representations.embedding import Embedding\n",
    "from histwords.representations.sequentialembedding import SequentialEmbedding\n",
    "from histwords.viz.scripts import helpers\n",
    "import matplotlib.pyplot as plt\n",
    "import zhplot  # 中文显示支持\n",
    "\n",
    "def visualize_semantic_change(word, embedding_path, years):\n",
    "    \"\"\"可视化某个词的语义变迁轨迹\"\"\"\n",
    "    \n",
    "    # 加载词向量模型\n",
    "    embeddings = SequentialEmbedding.load(embedding_path, years)\n",
    "    \n",
    "    # 获取语义近邻数据\n",
    "    time_sims, lookups, nearests, sims = helpers.get_time_sims(embeddings, word)\n",
    "    \n",
    "    # ✅ 过滤掉单字和重复目标词本身（如“民主”）\n",
    "    filtered_words = []\n",
    "    filtered_values = []\n",
    "    for w in lookups:\n",
    "        w_clean = w.split(\"|\")[0]\n",
    "        \n",
    "        # ✅ 排除掉单字 + 不是主词时才加入散点（图上不需要）\n",
    "        if len(w_clean) > 1:\n",
    "            filtered_words.append(w)\n",
    "            filtered_values.append(lookups[w])\n",
    "    \n",
    "    # t-SNE降维\n",
    "    fitted = helpers.fit_tsne(filtered_values)\n",
    "    \n",
    "    # 配置绘图参数\n",
    "    plt.figure(figsize=(4, 4))\n",
    "    cmap = helpers.get_cmap(len(time_sims))\n",
    "    \n",
    "    # 绘制散点图和注释\n",
    "    helpers.clear_figure()\n",
    "    annotations = helpers.plot_words(word, filtered_words, fitted, cmap, sims)\n",
    "    helpers.plot_annotations(annotations)\n",
    "    \n",
    "    # 设置标题\n",
    "    plt.title(f'「{word}」的语义变迁轨迹 ({years[0]}–{years[-1]})', fontsize=14, pad=20)\n",
    "    \n",
    "    # 添加图例\n",
    "    for i, year in enumerate(time_sims.keys()):\n",
    "        plt.scatter([], [], c=[cmap(i)], label=str(year))\n",
    "    plt.legend(title='年份', bbox_to_anchor=(1.05, 1), loc='upper left')\n",
    "    \n",
    "    # 调整布局\n",
    "    plt.tight_layout()\n",
    "    \n",
    "    # 打印统计信息\n",
    "    print(f\"\\n---「{word}」各年代的高相似近邻数量（sim > 0.3）---\")\n",
    "    for year, simlist in time_sims.items():\n",
    "        print(f\"{year}: {len(simlist)} 个词\")\n",
    "\n",
    "    return plt.gcf()\n",
    "\n"
   ]
  },
  {
   "cell_type": "code",
   "execution_count": 32,
   "id": "df146d08",
   "metadata": {},
   "outputs": [
    {
     "name": "stdout",
     "output_type": "stream",
     "text": [
      "GET TIME SIMS FOR rich TOOK 0.5086860656738281\n"
     ]
    },
    {
     "ename": "ValueError",
     "evalue": "perplexity (30.0) must be less than n_samples (24)",
     "output_type": "error",
     "traceback": [
      "\u001b[0;31m---------------------------------------------------------------------------\u001b[0m",
      "\u001b[0;31mValueError\u001b[0m                                Traceback (most recent call last)",
      "Cell \u001b[0;32mIn[32], line 6\u001b[0m\n\u001b[1;32m      3\u001b[0m years \u001b[38;5;241m=\u001b[39m [\u001b[38;5;241m1950\u001b[39m, \u001b[38;5;241m1960\u001b[39m, \u001b[38;5;241m1970\u001b[39m, \u001b[38;5;241m1980\u001b[39m, \u001b[38;5;241m1990\u001b[39m]\n\u001b[1;32m      5\u001b[0m \u001b[38;5;66;03m# 生成可视化\u001b[39;00m\n\u001b[0;32m----> 6\u001b[0m fig \u001b[38;5;241m=\u001b[39m \u001b[43mvisualize_semantic_change\u001b[49m\u001b[43m(\u001b[49m\u001b[38;5;124;43m\"\u001b[39;49m\u001b[38;5;124;43mrich\u001b[39;49m\u001b[38;5;124;43m\"\u001b[39;49m\u001b[43m,\u001b[49m\u001b[43m \u001b[49m\u001b[43membedding_path\u001b[49m\u001b[43m,\u001b[49m\u001b[43m \u001b[49m\u001b[43myears\u001b[49m\u001b[43m)\u001b[49m\n\u001b[1;32m      8\u001b[0m \u001b[38;5;66;03m# 显示图形\u001b[39;00m\n\u001b[1;32m      9\u001b[0m plt\u001b[38;5;241m.\u001b[39mshow()\n",
      "Cell \u001b[0;32mIn[31], line 33\u001b[0m, in \u001b[0;36mvisualize_semantic_change\u001b[0;34m(word, embedding_path, years)\u001b[0m\n\u001b[1;32m     30\u001b[0m         filtered_values\u001b[38;5;241m.\u001b[39mappend(lookups[w])\n\u001b[1;32m     32\u001b[0m \u001b[38;5;66;03m# t-SNE降维\u001b[39;00m\n\u001b[0;32m---> 33\u001b[0m fitted \u001b[38;5;241m=\u001b[39m \u001b[43mhelpers\u001b[49m\u001b[38;5;241;43m.\u001b[39;49m\u001b[43mfit_tsne\u001b[49m\u001b[43m(\u001b[49m\u001b[43mfiltered_values\u001b[49m\u001b[43m)\u001b[49m\n\u001b[1;32m     35\u001b[0m \u001b[38;5;66;03m# 配置绘图参数\u001b[39;00m\n\u001b[1;32m     36\u001b[0m plt\u001b[38;5;241m.\u001b[39mfigure(figsize\u001b[38;5;241m=\u001b[39m(\u001b[38;5;241m4\u001b[39m, \u001b[38;5;241m4\u001b[39m))\n",
      "File \u001b[0;32m~/data/MD2025/histwords/viz/common.py:131\u001b[0m, in \u001b[0;36mfit_tsne\u001b[0;34m(values)\u001b[0m\n\u001b[1;32m    129\u001b[0m mat \u001b[38;5;241m=\u001b[39m np\u001b[38;5;241m.\u001b[39marray(values)\n\u001b[1;32m    130\u001b[0m model \u001b[38;5;241m=\u001b[39m TSNE(n_components\u001b[38;5;241m=\u001b[39m\u001b[38;5;241m2\u001b[39m, random_state\u001b[38;5;241m=\u001b[39m\u001b[38;5;241m0\u001b[39m, learning_rate\u001b[38;5;241m=\u001b[39m\u001b[38;5;241m150\u001b[39m, init\u001b[38;5;241m=\u001b[39m\u001b[38;5;124m'\u001b[39m\u001b[38;5;124mpca\u001b[39m\u001b[38;5;124m'\u001b[39m)\n\u001b[0;32m--> 131\u001b[0m fitted \u001b[38;5;241m=\u001b[39m \u001b[43mmodel\u001b[49m\u001b[38;5;241;43m.\u001b[39;49m\u001b[43mfit_transform\u001b[49m\u001b[43m(\u001b[49m\u001b[43mmat\u001b[49m\u001b[43m)\u001b[49m\n\u001b[1;32m    132\u001b[0m \u001b[38;5;28mprint\u001b[39m(\u001b[38;5;124m\"\u001b[39m\u001b[38;5;124mFIT TSNE TOOK \u001b[39m\u001b[38;5;132;01m%s\u001b[39;00m\u001b[38;5;124m\"\u001b[39m \u001b[38;5;241m%\u001b[39m (time\u001b[38;5;241m.\u001b[39mtime() \u001b[38;5;241m-\u001b[39m start))\n\u001b[1;32m    134\u001b[0m \u001b[38;5;28;01mreturn\u001b[39;00m fitted\n",
      "File \u001b[0;32m/opt/miniconda/envs/mdproject/lib/python3.10/site-packages/sklearn/utils/_set_output.py:316\u001b[0m, in \u001b[0;36m_wrap_method_output.<locals>.wrapped\u001b[0;34m(self, X, *args, **kwargs)\u001b[0m\n\u001b[1;32m    314\u001b[0m \u001b[38;5;129m@wraps\u001b[39m(f)\n\u001b[1;32m    315\u001b[0m \u001b[38;5;28;01mdef\u001b[39;00m\u001b[38;5;250m \u001b[39m\u001b[38;5;21mwrapped\u001b[39m(\u001b[38;5;28mself\u001b[39m, X, \u001b[38;5;241m*\u001b[39margs, \u001b[38;5;241m*\u001b[39m\u001b[38;5;241m*\u001b[39mkwargs):\n\u001b[0;32m--> 316\u001b[0m     data_to_wrap \u001b[38;5;241m=\u001b[39m \u001b[43mf\u001b[49m\u001b[43m(\u001b[49m\u001b[38;5;28;43mself\u001b[39;49m\u001b[43m,\u001b[49m\u001b[43m \u001b[49m\u001b[43mX\u001b[49m\u001b[43m,\u001b[49m\u001b[43m \u001b[49m\u001b[38;5;241;43m*\u001b[39;49m\u001b[43margs\u001b[49m\u001b[43m,\u001b[49m\u001b[43m \u001b[49m\u001b[38;5;241;43m*\u001b[39;49m\u001b[38;5;241;43m*\u001b[39;49m\u001b[43mkwargs\u001b[49m\u001b[43m)\u001b[49m\n\u001b[1;32m    317\u001b[0m     \u001b[38;5;28;01mif\u001b[39;00m \u001b[38;5;28misinstance\u001b[39m(data_to_wrap, \u001b[38;5;28mtuple\u001b[39m):\n\u001b[1;32m    318\u001b[0m         \u001b[38;5;66;03m# only wrap the first output for cross decomposition\u001b[39;00m\n\u001b[1;32m    319\u001b[0m         return_tuple \u001b[38;5;241m=\u001b[39m (\n\u001b[1;32m    320\u001b[0m             _wrap_data_with_container(method, data_to_wrap[\u001b[38;5;241m0\u001b[39m], X, \u001b[38;5;28mself\u001b[39m),\n\u001b[1;32m    321\u001b[0m             \u001b[38;5;241m*\u001b[39mdata_to_wrap[\u001b[38;5;241m1\u001b[39m:],\n\u001b[1;32m    322\u001b[0m         )\n",
      "File \u001b[0;32m/opt/miniconda/envs/mdproject/lib/python3.10/site-packages/sklearn/base.py:1363\u001b[0m, in \u001b[0;36m_fit_context.<locals>.decorator.<locals>.wrapper\u001b[0;34m(estimator, *args, **kwargs)\u001b[0m\n\u001b[1;32m   1356\u001b[0m     estimator\u001b[38;5;241m.\u001b[39m_validate_params()\n\u001b[1;32m   1358\u001b[0m \u001b[38;5;28;01mwith\u001b[39;00m config_context(\n\u001b[1;32m   1359\u001b[0m     skip_parameter_validation\u001b[38;5;241m=\u001b[39m(\n\u001b[1;32m   1360\u001b[0m         prefer_skip_nested_validation \u001b[38;5;129;01mor\u001b[39;00m global_skip_validation\n\u001b[1;32m   1361\u001b[0m     )\n\u001b[1;32m   1362\u001b[0m ):\n\u001b[0;32m-> 1363\u001b[0m     \u001b[38;5;28;01mreturn\u001b[39;00m \u001b[43mfit_method\u001b[49m\u001b[43m(\u001b[49m\u001b[43mestimator\u001b[49m\u001b[43m,\u001b[49m\u001b[43m \u001b[49m\u001b[38;5;241;43m*\u001b[39;49m\u001b[43margs\u001b[49m\u001b[43m,\u001b[49m\u001b[43m \u001b[49m\u001b[38;5;241;43m*\u001b[39;49m\u001b[38;5;241;43m*\u001b[39;49m\u001b[43mkwargs\u001b[49m\u001b[43m)\u001b[49m\n",
      "File \u001b[0;32m/opt/miniconda/envs/mdproject/lib/python3.10/site-packages/sklearn/manifold/_t_sne.py:1143\u001b[0m, in \u001b[0;36mTSNE.fit_transform\u001b[0;34m(self, X, y)\u001b[0m\n\u001b[1;32m   1118\u001b[0m \u001b[38;5;129m@_fit_context\u001b[39m(\n\u001b[1;32m   1119\u001b[0m     \u001b[38;5;66;03m# TSNE.metric is not validated yet\u001b[39;00m\n\u001b[1;32m   1120\u001b[0m     prefer_skip_nested_validation\u001b[38;5;241m=\u001b[39m\u001b[38;5;28;01mFalse\u001b[39;00m\n\u001b[1;32m   1121\u001b[0m )\n\u001b[1;32m   1122\u001b[0m \u001b[38;5;28;01mdef\u001b[39;00m\u001b[38;5;250m \u001b[39m\u001b[38;5;21mfit_transform\u001b[39m(\u001b[38;5;28mself\u001b[39m, X, y\u001b[38;5;241m=\u001b[39m\u001b[38;5;28;01mNone\u001b[39;00m):\n\u001b[1;32m   1123\u001b[0m \u001b[38;5;250m    \u001b[39m\u001b[38;5;124;03m\"\"\"Fit X into an embedded space and return that transformed output.\u001b[39;00m\n\u001b[1;32m   1124\u001b[0m \n\u001b[1;32m   1125\u001b[0m \u001b[38;5;124;03m    Parameters\u001b[39;00m\n\u001b[0;32m   (...)\u001b[0m\n\u001b[1;32m   1141\u001b[0m \u001b[38;5;124;03m        Embedding of the training data in low-dimensional space.\u001b[39;00m\n\u001b[1;32m   1142\u001b[0m \u001b[38;5;124;03m    \"\"\"\u001b[39;00m\n\u001b[0;32m-> 1143\u001b[0m     \u001b[38;5;28;43mself\u001b[39;49m\u001b[38;5;241;43m.\u001b[39;49m\u001b[43m_check_params_vs_input\u001b[49m\u001b[43m(\u001b[49m\u001b[43mX\u001b[49m\u001b[43m)\u001b[49m\n\u001b[1;32m   1144\u001b[0m     embedding \u001b[38;5;241m=\u001b[39m \u001b[38;5;28mself\u001b[39m\u001b[38;5;241m.\u001b[39m_fit(X)\n\u001b[1;32m   1145\u001b[0m     \u001b[38;5;28mself\u001b[39m\u001b[38;5;241m.\u001b[39membedding_ \u001b[38;5;241m=\u001b[39m embedding\n",
      "File \u001b[0;32m/opt/miniconda/envs/mdproject/lib/python3.10/site-packages/sklearn/manifold/_t_sne.py:847\u001b[0m, in \u001b[0;36mTSNE._check_params_vs_input\u001b[0;34m(self, X)\u001b[0m\n\u001b[1;32m    845\u001b[0m \u001b[38;5;28;01mdef\u001b[39;00m\u001b[38;5;250m \u001b[39m\u001b[38;5;21m_check_params_vs_input\u001b[39m(\u001b[38;5;28mself\u001b[39m, X):\n\u001b[1;32m    846\u001b[0m     \u001b[38;5;28;01mif\u001b[39;00m \u001b[38;5;28mself\u001b[39m\u001b[38;5;241m.\u001b[39mperplexity \u001b[38;5;241m>\u001b[39m\u001b[38;5;241m=\u001b[39m X\u001b[38;5;241m.\u001b[39mshape[\u001b[38;5;241m0\u001b[39m]:\n\u001b[0;32m--> 847\u001b[0m         \u001b[38;5;28;01mraise\u001b[39;00m \u001b[38;5;167;01mValueError\u001b[39;00m(\n\u001b[1;32m    848\u001b[0m             \u001b[38;5;124mf\u001b[39m\u001b[38;5;124m\"\u001b[39m\u001b[38;5;124mperplexity (\u001b[39m\u001b[38;5;132;01m{\u001b[39;00m\u001b[38;5;28mself\u001b[39m\u001b[38;5;241m.\u001b[39mperplexity\u001b[38;5;132;01m}\u001b[39;00m\u001b[38;5;124m) must be less \u001b[39m\u001b[38;5;124m\"\u001b[39m\n\u001b[1;32m    849\u001b[0m             \u001b[38;5;124mf\u001b[39m\u001b[38;5;124m\"\u001b[39m\u001b[38;5;124mthan n_samples (\u001b[39m\u001b[38;5;132;01m{\u001b[39;00mX\u001b[38;5;241m.\u001b[39mshape[\u001b[38;5;241m0\u001b[39m]\u001b[38;5;132;01m}\u001b[39;00m\u001b[38;5;124m)\u001b[39m\u001b[38;5;124m\"\u001b[39m\n\u001b[1;32m    850\u001b[0m         )\n",
      "\u001b[0;31mValueError\u001b[0m: perplexity (30.0) must be less than n_samples (24)"
     ]
    }
   ],
   "source": [
    "# 设置参数并调用函数\n",
    "embedding_path = r\"../eng-all/sgns\"\n",
    "years = [1950, 1960, 1970, 1980, 1990]\n",
    "\n",
    "# 生成可视化\n",
    "fig = visualize_semantic_change(\"rich\", embedding_path, years)\n",
    "\n",
    "# 显示图形\n",
    "plt.show()"
   ]
  },
  {
   "cell_type": "markdown",
   "id": "45db94e0",
   "metadata": {},
   "source": [
    "#### 3.4.4 获取所有年份的邻居"
   ]
  },
  {
   "cell_type": "markdown",
   "id": "30a5e9d5",
   "metadata": {},
   "source": [
    "方法`.get_seq_neighbour_set(word, n=5):`允许你一次性获取某个词在所有年份中最接近的邻居，返回的数据格式是`set`"
   ]
  },
  {
   "cell_type": "code",
   "execution_count": 14,
   "id": "7faf3a65",
   "metadata": {},
   "outputs": [
    {
     "name": "stdout",
     "output_type": "stream",
     "text": [
      "{'音乐', '科学家', '教员', '技师', '工程师', '农艺', '艺术家', '教授', '思想家', '李约瑟', '学者', '医生'}\n"
     ]
    }
   ],
   "source": [
    "neigh_set = seq_embeddings.get_seq_neighbour_set('科学家', n=5)\n",
    "print(neigh_set)\n",
    "\n",
    "# TRY：换别的词看看"
   ]
  },
  {
   "cell_type": "markdown",
   "id": "fdc8685b",
   "metadata": {},
   "source": [
    "### 3.5 学会语义投影"
   ]
  },
  {
   "cell_type": "markdown",
   "id": "876e108d",
   "metadata": {},
   "source": [
    "语义轴投影是最强大的方法之一，它允许我们量化一个词在语义轴（反义词对）上的位置。`Embedding`和`SequentialEmbedding`对象分别实现了相应的方法，可以简单地返回目标词在语义轴上的投影分数。让我们学习一下调用语义投影方法。"
   ]
  },
  {
   "cell_type": "markdown",
   "id": "3f476cd2",
   "metadata": {},
   "source": [
    "#### 3.5.1 单一时间点的语义投影"
   ]
  },
  {
   "cell_type": "markdown",
   "id": "0d5f6738",
   "metadata": {},
   "source": [
    "如果你只打算使用单一时间点上的词向量模型，那么我们的`.get_projection(positive_words, negative_words, target_word)`为你提供了非常方便的工具。在这个方法中，`positive_words`和`genative_words`是两个字符串列表，分别接受正向词和反向词，用来构建语义轴；`target_word`是一个字符串，是你要测量的对象。让我们看看具体示例："
   ]
  },
  {
   "cell_type": "code",
   "execution_count": 15,
   "id": "5e92eabb",
   "metadata": {},
   "outputs": [],
   "source": [
    "# 还是先加载模型\n",
    "\n",
    "embedding_1990 = Embedding.load(PATH + '1990')"
   ]
  },
  {
   "cell_type": "code",
   "execution_count": 16,
   "id": "68c79bb7",
   "metadata": {},
   "outputs": [
    {
     "data": {
      "text/plain": [
       "0.025943914370407814"
      ]
     },
     "execution_count": 16,
     "metadata": {},
     "output_type": "execute_result"
    }
   ],
   "source": [
    "# 构建正/反义词对：\n",
    "\n",
    "male_words = ['男人','男性','男','男子','男孩']\n",
    "female_words = ['女人','女性','女','女子','女孩']\n",
    "\n",
    "# 计算投影\n",
    "\n",
    "embedding_1990.get_projection(male_words, female_words, '红')"
   ]
  },
  {
   "cell_type": "markdown",
   "id": "11bd38b5",
   "metadata": {},
   "source": [
    "#### 3.5.2 多时间点的语义投影"
   ]
  },
  {
   "cell_type": "markdown",
   "id": "d689ec71",
   "metadata": {},
   "source": [
    "如果你打算使用多时间点的词向量模型，即`SequentialEmbedding`类，那么我们的`get_projection_by_year(self, positive_words, negative_words, target_word)`会帮到你。参数含义和上面是一样的"
   ]
  },
  {
   "cell_type": "code",
   "execution_count": 17,
   "id": "2643c55b",
   "metadata": {},
   "outputs": [],
   "source": [
    "years = range(1950, 2000, 10)\n",
    "seq_embeddings = SequentialEmbedding.load(PATH, years)"
   ]
  },
  {
   "cell_type": "code",
   "execution_count": 18,
   "id": "b89dd444",
   "metadata": {},
   "outputs": [
    {
     "data": {
      "text/plain": [
       "{1950: -0.4060267977441029,\n",
       " 1960: -0.43562919017952295,\n",
       " 1970: -0.3236895063496039,\n",
       " 1980: -0.026711523959551862,\n",
       " 1990: -0.07049119276616952}"
      ]
     },
     "execution_count": 18,
     "metadata": {},
     "output_type": "execute_result"
    }
   ],
   "source": [
    "male_words = ['男人','男性','男','男子','男孩']\n",
    "female_words = ['女人','女性','女','女子','女孩']\n",
    "\n",
    "# 计算投影\n",
    "\n",
    "seq_embeddings.get_projection_by_year(male_words, female_words, '教师')"
   ]
  },
  {
   "cell_type": "markdown",
   "id": "48ede11e",
   "metadata": {},
   "source": [
    "恭喜你！你已经通关了本教程。\n",
    "\n",
    "你已经学会了如何调用我们提供的API接口。\n",
    "\n",
    "接下来，你可能有一些更个性化的任务需要完成，你就需要自己完成代码啦。如果遇到困难，随时向AI或嘉宾咨询。\n",
    "\n",
    "**祝你好运！**"
   ]
  }
 ],
 "metadata": {
  "kernelspec": {
   "display_name": "mdproject",
   "language": "python",
   "name": "python3"
  },
  "language_info": {
   "codemirror_mode": {
    "name": "ipython",
    "version": 3
   },
   "file_extension": ".py",
   "mimetype": "text/x-python",
   "name": "python",
   "nbconvert_exporter": "python",
   "pygments_lexer": "ipython3",
   "version": "3.10.13"
  }
 },
 "nbformat": 4,
 "nbformat_minor": 5
}
