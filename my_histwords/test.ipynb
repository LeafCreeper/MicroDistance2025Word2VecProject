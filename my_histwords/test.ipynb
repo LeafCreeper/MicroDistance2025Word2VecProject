{
 "cells": [
  {
   "cell_type": "markdown",
   "id": "6cf4e10b",
   "metadata": {},
   "source": [
    "# 词向量探索之旅"
   ]
  },
  {
   "cell_type": "markdown",
   "id": "7db47534",
   "metadata": {},
   "source": [
    "### 环境准备\n",
    "\n",
    "确保已将 `histwords` 目录加入 `PYTHONPATH`，并已安装依赖。\n"
   ]
  },
  {
   "cell_type": "code",
   "execution_count": 2,
   "id": "17989714",
   "metadata": {},
   "outputs": [],
   "source": [
    "import sys\n",
    "sys.path.append('/root/workspace/MicroDistanc-Word2Vec/histwords')"
   ]
  },
  {
   "cell_type": "markdown",
   "id": "e9da512b",
   "metadata": {},
   "source": [
    "## 1. 从斯坦福大学HistWords项目中获取词向量"
   ]
  },
  {
   "cell_type": "code",
   "execution_count": null,
   "id": "a6744322",
   "metadata": {},
   "outputs": [
    {
     "name": "stdout",
     "output_type": "stream",
     "text": [
      "(300,)\n",
      "(300,)\n",
      "(300,)\n",
      "(300,)\n"
     ]
    }
   ],
   "source": [
    "import pickle\n",
    "import numpy as np\n",
    "\n",
    "# 加载词表\n",
    "with open('/root/workspace/MicroDistanc-Word2Vec/Chinese_sgns_basic/1990-vocab.pkl', 'rb') as f:\n",
    "    vocab = pickle.load(f)\n",
    "\n",
    "# 加载词向量\n",
    "vecs = np.load('/root/workspace/MicroDistanc-Word2Vec/Chinese_sgns_basic/1990-w.npy')\n",
    "\n",
    "# 获取某个词的向量\n",
    "words = ['病毒', '电脑', '疾病', '计算机']\n",
    "for word in words:\n",
    "    if word in vocab:\n",
    "        idx = vocab.index(word)\n",
    "        vector = vecs[idx]\n",
    "        print(vector.shape) # 输出向量维度\n",
    "    else:\n",
    "        print('词不在词表中')\n",
    "        \n"
   ]
  },
  {
   "cell_type": "code",
   "execution_count": 4,
   "id": "aefcb63b",
   "metadata": {},
   "outputs": [
    {
     "name": "stdout",
     "output_type": "stream",
     "text": [
      "病毒 - 电脑 的余弦相似度: 0.2628\n",
      "病毒 - 疾病 的余弦相似度: 0.3643\n",
      "病毒 - 计算机 的余弦相似度: 0.3050\n",
      "电脑 - 疾病 的余弦相似度: 0.1756\n",
      "电脑 - 计算机 的余弦相似度: 0.4383\n",
      "疾病 - 计算机 的余弦相似度: 0.1918\n"
     ]
    }
   ],
   "source": [
    "from itertools import combinations\n",
    "from numpy.linalg import norm\n",
    "\n",
    "# 获取所有在词表中的词及其向量\n",
    "word_vecs = {}\n",
    "for word in words:\n",
    "    if word in vocab:\n",
    "        idx = vocab.index(word)\n",
    "        word_vecs[word] = vecs[idx]\n",
    "\n",
    "# 计算两两余弦相似度\n",
    "def cosine_similarity(a, b):\n",
    "    return np.dot(a, b) / (norm(a) * norm(b))\n",
    "\n",
    "for w1, w2 in combinations(word_vecs.keys(), 2):\n",
    "    sim = cosine_similarity(word_vecs[w1], word_vecs[w2])\n",
    "    print(f\"{w1} - {w2} 的余弦相似度: {sim:.4f}\")\n"
   ]
  },
  {
   "cell_type": "markdown",
   "id": "28a44aef",
   "metadata": {},
   "source": [
    "## 调用HistWords提供的API端口"
   ]
  },
  {
   "cell_type": "code",
   "execution_count": 4,
   "id": "41674f9f",
   "metadata": {},
   "outputs": [
    {
     "name": "stdout",
     "output_type": "stream",
     "text": [
      "(300,)\n"
     ]
    }
   ],
   "source": [
    "from representations.sequentialembedding import SequentialEmbedding\n",
    "from representations.embedding import Embedding\n",
    "# SequentialEmbedding是Word2Vec（SGNS）词向量\n",
    "# Embedding是SVD词向量\n",
    "\n",
    "# 加载词向量：单一时间点\n",
    "embedding = Embedding.load('/root/workspace/MicroDistanc-Word2Vec/Chinese_sgns_basic/1990')\n",
    "# 获取词向量\n",
    "vector = embedding.represent('病毒')\n",
    "print(vector.shape)"
   ]
  }
 ],
 "metadata": {
  "kernelspec": {
   "display_name": "Python 3",
   "language": "python",
   "name": "python3"
  },
  "language_info": {
   "codemirror_mode": {
    "name": "ipython",
    "version": 3
   },
   "file_extension": ".py",
   "mimetype": "text/x-python",
   "name": "python",
   "nbconvert_exporter": "python",
   "pygments_lexer": "ipython3",
   "version": "3.11.13"
  }
 },
 "nbformat": 4,
 "nbformat_minor": 5
}
